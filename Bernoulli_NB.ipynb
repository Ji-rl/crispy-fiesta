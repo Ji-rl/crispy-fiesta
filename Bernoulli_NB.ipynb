{
  "nbformat": 4,
  "nbformat_minor": 0,
  "metadata": {
    "colab": {
      "name": "Bernoulli_NB.ipynb",
      "provenance": [],
      "collapsed_sections": [],
      "authorship_tag": "ABX9TyNjuQ2lwzWMGWRQIjFcEvHE",
      "include_colab_link": true
    },
    "kernelspec": {
      "name": "python3",
      "display_name": "Python 3"
    }
  },
  "cells": [
    {
      "cell_type": "markdown",
      "metadata": {
        "id": "view-in-github",
        "colab_type": "text"
      },
      "source": [
        "<a href=\"https://colab.research.google.com/github/jwang44/crispy-fiesta/blob/main/Bernoulli_NB.ipynb\" target=\"_parent\"><img src=\"https://colab.research.google.com/assets/colab-badge.svg\" alt=\"Open In Colab\"/></a>"
      ]
    },
    {
      "cell_type": "code",
      "metadata": {
        "id": "qpceP2Z-_uwK"
      },
      "source": [
        "import numpy as np\r\n",
        "import time\r\n",
        "import scipy"
      ],
      "execution_count": 110,
      "outputs": []
    },
    {
      "cell_type": "code",
      "metadata": {
        "id": "yMSndDpV918Z"
      },
      "source": [
        "class Bernoulli_NB():\r\n",
        "  def __init__(self, LaplaceSmoothing = True):\r\n",
        "    self.LaplaceSmoothing = LaplaceSmoothing\r\n",
        "    self.Prob_Y = None      # P(Y)\r\n",
        "    self.Prob_X_Y = None     # P(xj|Y)\r\n",
        "    self.Prob_X_Y = None     # P(xj|Y)\r\n",
        "    self.n_class = 0\r\n",
        "    self.w0 = None\r\n",
        "    self.w = None\r\n",
        "\r\n",
        "\r\n",
        "  def ProbY(self, Y):\r\n",
        "    # calculate P(Y=1) and P(Y=0)\r\n",
        "    ProbY = np.zeros((1,2))\r\n",
        "    #print('shape',np.shape(Y))\r\n",
        "    ProbY[0,1] = np.sum(Y)/np.shape(Y)\r\n",
        "    ProbY[0,0] = 1 - ProbY[0,1]\r\n",
        "    return ProbY\r\n",
        "\r\n",
        "  def ProbX_Yi(self, X, Y, label):\r\n",
        "    # calculte P(xj=1|Yi=1)\r\n",
        "    rows,cols = X.shape       # feature shape\r\n",
        "    numerator = np.zeros(cols)    # initialize numerator\r\n",
        "\r\n",
        "    # xj=1 and Yi=1\r\n",
        "    for n in range(rows):\r\n",
        "      if Y[n] == label:\r\n",
        "        numerator += X[n,:]\r\n",
        "    # Yi=1\r\n",
        "    denominator = np.count_nonzero(Y == label)\r\n",
        "    # Laplace Smoothing\r\n",
        "    if(self.LaplaceSmoothing):\r\n",
        "      numerator += 1\r\n",
        "      denominator += 2\r\n",
        "    # P(xj=1|Yi=1)\r\n",
        "    prob = numerator/denominator\r\n",
        "    return prob    \r\n",
        "\r\n",
        "  def fit(self, X, Y):\r\n",
        "    print('----------------------start fitting---------------------')\r\n",
        "    t1 = time.time()\r\n",
        "\r\n",
        "    rows,cols = X.shape              # feature shape\r\n",
        "    self.n_class = len(np.unique(Y))       # number of classes\r\n",
        "    self.Prob_Y = np.zeros((self.n_class,2))   # initialize P(Y)\r\n",
        "    self.Prob_X_Y = np.zeros((self.n_class,2,cols)) # initialize P(x|Y)\r\n",
        "    c = np.zeros((self.n_class,cols))       # rows:class cols:xj\r\n",
        "    d = np.zeros((self.n_class,cols))       # rows:class cols:xj\r\n",
        "    self.w0 = np.zeros((1,self.n_class))     # [w0Y1,w0Y2,...]\r\n",
        "    self.w = np.zeros((self.n_class,cols))    # [(w1,w2,...)Y1;\r\n",
        "                            # (w1,w2,...)Y2]\r\n",
        "\r\n",
        "    for Yi in range(self.n_class):\r\n",
        "      Y_onevsall = np.where(Y == Yi, 1, 0)    # only have 2 classes: Yi(1) & notYi(0)\r\n",
        "      self.Prob_Y[Yi,:] = self.ProbY(Y_onevsall)   # [P(notYi), P(Yi)]\r\n",
        "      self.Prob_X_Y[Yi,0,:] = self.ProbX_Yi(X,Y_onevsall,0)  # [P(x1|notYi), P(x2|notYi),...]\r\n",
        "      self.Prob_X_Y[Yi,1,:] = self.ProbX_Yi(X,Y_onevsall,1)  # [P(x1|Yi), P(x2|Yi),...]\r\n",
        "      c[Yi,:] = np.log10(self.Prob_X_Y[Yi,1,:]/self.Prob_X_Y[Yi,0,:])     # log(P(xj|Y=1)/P(xj|Y=0))\r\n",
        "      d[Yi,:] = np.log10((1-self.Prob_X_Y[Yi,1,:])/(1-self.Prob_X_Y[Yi,0,:])) # log((1-P(xj|Y=1))/(1-P(xj|Y=0)))\r\n",
        "      self.w0[0,Yi] = np.log10(self.Prob_Y[Yi,1]/self.Prob_Y[Yi,0]) + np.sum(d[Yi,:])\r\n",
        "      self.w[Yi,:] = c[Yi,:] - d[Yi,:]\r\n",
        "\r\n",
        "    print('------fit done, total time:',time.time()-t1,' -----')\r\n",
        "    # return self.Prob_Y,self.Prob_X_Y\r\n",
        "\r\n",
        "  def predict(self, X):\r\n",
        "    print('----------------------start predict---------------------')\r\n",
        "    t1 = time.time()\r\n",
        "\r\n",
        "    rows,cols = X.shape       # feature shape\r\n",
        "    PreY = np.zeros((rows,1),dtype=int) # initialize Y\r\n",
        "    LogOddsRatio = np.zeros((1,self.n_class))  # initialize log odds ratio a(x) \r\n",
        "    Logistic = np.zeros((1,self.n_class))    # initialize logistic function\r\n",
        "    for obs in range(rows):\r\n",
        "      for Yi in range(self.n_class):\r\n",
        "        LogOddsRatio[0,Yi] = self.w0[0,Yi] + np.sum((self.w[Yi,:]*X[obs,:])) \r\n",
        "        Logistic[0,Yi] = 1/(1+np.exp(-LogOddsRatio[0,Yi]))\r\n",
        "      PreY[obs] = np.where(Logistic == np.amax(Logistic))[1]\r\n",
        "    print('------predict done, total time:',time.time()-t1,' -----')\r\n",
        "    return PreY\r\n",
        "\r\n",
        "  def Accu_eval(self,PreY,TrueY):\r\n",
        "    #y_predict = self.predict(X_test)\r\n",
        "    rows,cols = np.shape(PreY)\r\n",
        "    TP = 0;FP = 0;TN = 0;FN = 0\r\n",
        "    # count TP,TN,FP,FN in validation set\r\n",
        "    for obs in range(rows):\r\n",
        "      if  TrueY[obs]==1 and PreY[obs]==1:\r\n",
        "        TP = TP+1\r\n",
        "      elif TrueY[obs]==0 and PreY[obs]==0:\r\n",
        "        TN = TN+1\r\n",
        "      elif TrueY[obs]==0 and PreY[obs]==1:\r\n",
        "        FP = FP+1\r\n",
        "      elif TrueY[obs]==1 and PreY[obs]==0:\r\n",
        "        FN = FN+1    \r\n",
        "    accuracy = (TP+TN)/(TP+TN+FP+FN)\r\n",
        "    precision = TP/(TP+FP)\r\n",
        "    recall = TP/(TP+FN)\r\n",
        "    F = 2*precision*recall/(precision+recall)\r\n",
        "    specificity = TN/(FP+TN)\r\n",
        "    FPR = FP/(FP+TN)\r\n",
        "    print(\"---------------------accuracy:\",accuracy,'-------------------')\r\n",
        "    return accuracy\r\n"
      ],
      "execution_count": 135,
      "outputs": []
    },
    {
      "cell_type": "code",
      "metadata": {
        "colab": {
          "base_uri": "https://localhost:8080/"
        },
        "id": "DfnCeH3hCxtV",
        "outputId": "3df83568-9ab1-4171-cd25-06327eee9039"
      },
      "source": [
        "Y = np.array([0,1,1,1,2])\r\n",
        "X = np.array([[0,1],\r\n",
        "              [1,0],\r\n",
        "              [1,1],\r\n",
        "              [1,1],\r\n",
        "              [0,0]])\r\n",
        "B = Bernoulli_NB()\r\n",
        "B.fit(X,Y)\r\n",
        "Xtest = np.array([[0,1],\r\n",
        "              [1,0],\r\n",
        "              [0,0]])\r\n",
        "Ytest = np.array([0,1,2])\r\n",
        "PreY = B.predict(Xtest)\r\n",
        "B.Accu_eval(PreY,Ytest)"
      ],
      "execution_count": 136,
      "outputs": [
        {
          "output_type": "stream",
          "text": [
            "----------------------start fitting---------------------\n",
            "------fit done, total time: 0.0009458065032958984  -----\n",
            "----------------------start predict---------------------\n",
            "------predict done, total time: 0.00037026405334472656  -----\n",
            "---------------------accuracy: 1.0 -------------------\n"
          ],
          "name": "stdout"
        },
        {
          "output_type": "execute_result",
          "data": {
            "text/plain": [
              "1.0"
            ]
          },
          "metadata": {
            "tags": []
          },
          "execution_count": 136
        }
      ]
    }
  ]
}