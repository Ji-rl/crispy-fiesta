{
  "nbformat": 4,
  "nbformat_minor": 0,
  "metadata": {
    "colab": {
      "name": "NB_latest",
      "provenance": [],
      "collapsed_sections": [],
      "include_colab_link": true
    },
    "kernelspec": {
      "name": "python3",
      "display_name": "Python 3"
    }
  },
  "cells": [
    {
      "cell_type": "markdown",
      "metadata": {
        "id": "view-in-github",
        "colab_type": "text"
      },
      "source": [
        "<a href=\"https://colab.research.google.com/github/jwang44/crispy-fiesta/blob/main/NB_latest.ipynb\" target=\"_parent\"><img src=\"https://colab.research.google.com/assets/colab-badge.svg\" alt=\"Open In Colab\"/></a>"
      ]
    },
    {
      "cell_type": "markdown",
      "metadata": {
        "id": "guvT3RTzGgxk"
      },
      "source": [
        "## Bernoulli NB model"
      ]
    },
    {
      "cell_type": "code",
      "metadata": {
        "id": "NUmRiQt-oF5e"
      },
      "source": [
        "import time\n",
        "import sklearn.preprocessing as skpre\n",
        "# from sklearn import metrics\n",
        "# from sklearn.model_selection import GridSearchCV"
      ],
      "execution_count": null,
      "outputs": []
    },
    {
      "cell_type": "code",
      "metadata": {
        "id": "K9EvhfoXqr2M"
      },
      "source": [
        "class Bernoulli_NB():\r\n",
        "  def __init__(self, LaplaceSmoothing = True):\r\n",
        "    self.LaplaceSmoothing = LaplaceSmoothing\r\n",
        "    self.Prob_Y = None      # P(Y)\r\n",
        "    self.Prob_X_Y = None     # P(xj|Y)\r\n",
        "    self.Prob_X_Y = None     # P(xj|Y)\r\n",
        "    self.n_class = 0\r\n",
        "    self.w0 = None\r\n",
        "    self.w = None\r\n",
        "    self.Ytarget = None\r\n",
        "\r\n",
        "  def ProbY(self, Y):\r\n",
        "    # calculate P(Y=1) and P(Y=0)\r\n",
        "    ProbY = np.zeros((1,2))\r\n",
        "    ProbY[0,1] = np.sum(Y)/np.shape(Y)\r\n",
        "    ProbY[0,0] = 1 - ProbY[0,1]\r\n",
        "    return ProbY\r\n",
        "\r\n",
        "  def ProbX_Yi(self, X, Y, label):\r\n",
        "    # calculte P(xj=1|Yi=1)\r\n",
        "    rows,cols = X.shape       # feature shape\r\n",
        "    numerator = np.zeros((1,cols))    # initialize numerator\r\n",
        "\r\n",
        "    # xj=1 and Yi=1\r\n",
        "    for n in range(rows):\r\n",
        "      if Y[n] == label:\r\n",
        "        numerator += X[n,:]\r\n",
        "    # Yi=1\r\n",
        "    denominator = np.count_nonzero(Y == label)\r\n",
        "\r\n",
        "    # Laplace Smoothing\r\n",
        "    if(self.LaplaceSmoothing):\r\n",
        "      numerator += 1\r\n",
        "      denominator += 2\r\n",
        "\r\n",
        "    # P(xj=1|Yi=1)\r\n",
        "    prob = numerator/denominator\r\n",
        "    return prob    \r\n",
        "\r\n",
        "  def fit(self, X, Y):\r\n",
        "    print('---------------------- start fitting ---------------------')\r\n",
        "    t1 = time.time()\r\n",
        "    \r\n",
        "    rows,cols = X.shape              # feature shape\r\n",
        "    self.n_class = len(np.unique(Y))       # number of classes\r\n",
        "    self.Prob_Y = np.zeros((self.n_class,2))   # initialize P(Y)\r\n",
        "    self.Prob_X_Y = np.zeros((self.n_class,2,cols)) # initialize P(x|Y)\r\n",
        "    c = np.zeros((self.n_class,cols))       # rows:class cols:xj\r\n",
        "    d = np.zeros((self.n_class,cols))       # rows:class cols:xj\r\n",
        "    self.w0 = np.zeros((1,self.n_class))     # [w0Y1,w0Y2,...]\r\n",
        "    self.w = np.zeros((self.n_class,cols))    # [(w1,w2,...)Y1;\r\n",
        "                            # (w1,w2,...)Y2]\r\n",
        "    for Yi in range(self.n_class):\r\n",
        "      Y_onevsall = np.where(Y == Yi, 1, 0)    # only have 2 classes: Yi(1) & notYi(0)\r\n",
        "      self.Prob_Y[Yi,:] = self.ProbY(Y_onevsall)   # [P(notYi), P(Yi)]\r\n",
        "      self.Prob_X_Y[Yi,0,:] = self.ProbX_Yi(X,Y_onevsall,0)  # [P(x1|notYi), P(x2|notYi),...]\r\n",
        "      self.Prob_X_Y[Yi,1,:] = self.ProbX_Yi(X,Y_onevsall,1)  # [P(x1|Yi), P(x2|Yi),...]\r\n",
        "      c[Yi,:] = np.log10(self.Prob_X_Y[Yi,1,:]/self.Prob_X_Y[Yi,0,:])     # log(P(xj|Y=1)/P(xj|Y=0))\r\n",
        "      d[Yi,:] = np.log10((1-self.Prob_X_Y[Yi,1,:])/(1-self.Prob_X_Y[Yi,0,:])) # log((1-P(xj|Y=1))/(1-P(xj|Y=0)))\r\n",
        "      self.w0[0,Yi] = np.log10(self.Prob_Y[Yi,1]/self.Prob_Y[Yi,0]) + np.sum(d[Yi,:])\r\n",
        "      self.w[Yi,:] = c[Yi,:] - d[Yi,:]\r\n",
        "\r\n",
        "    print('------ fit done, total time: ',time.time()-t1,' -----')\r\n",
        "    # return self.Prob_Y,self.Prob_X_Y\r\n",
        "\r\n",
        "  def predict(self, X):\r\n",
        "    print('---------------------- start predict ---------------------')\r\n",
        "    t1 = time.time()\r\n",
        "    \r\n",
        "    #X = self.encoder(X)\r\n",
        "    rows,cols = np.shape(X)       # feature shape\r\n",
        "    PreY = np.zeros(rows) # initialize Y\r\n",
        "    # print('type',type(PreY),'pre',PreY)\r\n",
        "    LogOddsRatio = np.zeros((1,self.n_class))  # initialize log odds ratio a(x) \r\n",
        "    Logistic = np.zeros((1,self.n_class))    # initialize logistic function\r\n",
        "    Y_index = 0\r\n",
        "    for obs in range(rows):\r\n",
        "      for Yi in range(self.n_class): \r\n",
        "        part2 = self.w[Yi,:].reshape(1,cols) @ np.transpose(X[obs,:])\r\n",
        "        LogOddsRatio[0,Yi] = self.w0[0,Yi] + part2.astype(np.float64)\r\n",
        "        Logistic[0,Yi] = 1/(1+np.exp(-LogOddsRatio[0,Yi]))\r\n",
        "      #print('w shape',self.w[Yi,:].reshape(1,cols).shape)\r\n",
        "      #print('x shape',np.transpose(X[obs,:]).shape)\r\n",
        "      #print('w',self.w[Yi,:].reshape(1,cols))\r\n",
        "      #print('x',np.transpose(X[obs,:]))\r\n",
        "      #print('part2',np.matmul(self.w[Yi,:].reshape(1,cols),np.transpose(X[obs,:])))\r\n",
        "      #print(np.where(Logistic == np.amax(Logistic))[1])\r\n",
        "      PreY[obs] = np.where(Logistic == np.amax(Logistic))[1]\r\n",
        "    print('------ predict done, total time: ',time.time()-t1,' -----')\r\n",
        "    return PreY\r\n",
        "\r\n",
        "  def score(self,X,Y):\r\n",
        "    # Return the mean accuracy on the given test data and labels.\r\n",
        "    PreY = self.predict(X)\r\n",
        "    rows = np.shape(Y)[0]\r\n",
        "    n_correct = 0;\r\n",
        "    for obs in range(rows):\r\n",
        "      if PreY[obs] == Y[obs]:\r\n",
        "        n_correct += 1\r\n",
        "    #print('n:',n_correct)\r\n",
        "    #print('rows:',rows)\r\n",
        "    accuracy = n_correct / rows\r\n",
        "    print('------------------ accuracy:',accuracy,' -----------------')\r\n",
        "    return accuracy\r\n"
      ],
      "execution_count": null,
      "outputs": []
    },
    {
      "cell_type": "code",
      "metadata": {
        "id": "GX909mSfT6Fp",
        "colab": {
          "base_uri": "https://localhost:8080/"
        },
        "outputId": "3b9806f4-e4f8-40f3-f7b5-a321d582c3c9"
      },
      "source": [
        "x = np.array([[1,1,1],\r\n",
        "              [1,1,0],\r\n",
        "              [1,1,1],\r\n",
        "              [1,0,1],\r\n",
        "              [0,0,1]])\r\n",
        "y = np.array([0,1,0,2,3])\r\n",
        "xtest = np.array([[0,1,0],\r\n",
        "              [1,1,0],\r\n",
        "              [1,1,0],\r\n",
        "              [1,0,1],\r\n",
        "              [0,0,1]])\r\n",
        "ytest = np.array([0,1,1,2,3])\r\n",
        "nb = Bernoulli_NB()\r\n",
        "nb.fit(x,y)\r\n",
        "nb.score(xtest,ytest)"
      ],
      "execution_count": null,
      "outputs": [
        {
          "output_type": "stream",
          "text": [
            "---------------------- start fitting ---------------------\n",
            "------ fit done, total time:  0.0012984275817871094  -----\n",
            "---------------------- start predict ---------------------\n",
            "------ predict done, total time:  0.00272369384765625  -----\n",
            "------------------ accuracy: 0.8  -----------------\n"
          ],
          "name": "stdout"
        },
        {
          "output_type": "execute_result",
          "data": {
            "text/plain": [
              "0.8"
            ]
          },
          "metadata": {
            "tags": []
          },
          "execution_count": 104
        }
      ]
    }
  ]
}